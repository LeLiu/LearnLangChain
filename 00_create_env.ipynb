{
 "cells": [
  {
   "cell_type": "markdown",
   "metadata": {},
   "source": [
    "Use Python 3.10\n",
    "\n",
    "conda create -n langchain python=3.10"
   ]
  },
  {
   "cell_type": "code",
   "execution_count": null,
   "metadata": {},
   "outputs": [],
   "source": [
    "%pip install langchain langchain-community\n",
    "%pip install langchain-deepseek==0.1.0 --no-deps\n",
    "%pip install langchain-modelscope-integration==0.1.0 --no-deps\n",
    "%pip install langchain-openai==0.3.3 modelscope==1.21.0 openai==1.58.1\n",
    "%pip install pypdf addict oss2 datasets==3.0.0\n"
   ]
  }
 ],
 "metadata": {
  "language_info": {
   "name": "python"
  }
 },
 "nbformat": 4,
 "nbformat_minor": 2
}
