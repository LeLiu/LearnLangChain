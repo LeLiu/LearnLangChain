{
 "cells": [
  {
   "cell_type": "code",
   "execution_count": null,
   "metadata": {},
   "outputs": [
    {
     "name": "stdout",
     "output_type": "stream",
     "text": [
      "5 + 2 等于 7。\n",
      "5 + 2 等于 7。\n"
     ]
    }
   ],
   "source": [
    "from langchain_deepseek import ChatDeepSeek\n",
    "from langchain_core.tools import tool\n",
    "from langchain_core.messages import HumanMessage\n",
    "\n",
    "@tool \n",
    "def add(a: float, b: float) -> float:\n",
    "    \"\"\"\n",
    "    add two float numbers.\n",
    "    args:\n",
    "        a: the first number.\n",
    "        b: the second numner.\n",
    "    \"\"\"\n",
    "    return a + b\n",
    "\n",
    "def square(v: float) -> float:\n",
    "    \"\"\"\n",
    "    caculate the square of the given number.\n",
    "    args:\n",
    "        v: the number.\n",
    "    \"\"\"\n",
    "    return v * v\n",
    "\n",
    "llm = ChatDeepSeek(model= 'deepseek-chat')\n",
    "llm_with_tools = ds_model.bind_tools([add, square])\n",
    "\n",
    "messages = [HumanMessage('5 + 2等于多少？')]\n",
    "ai_message = llm_with_tools.invoke(messages)\n",
    "messages.append(ai_message)\n",
    "\n",
    "for tool_call in ai_message.tool_calls:\n",
    "    selected_tool = {'add': add, 'square':square} [tool_call['name'].lower()]\n",
    "    tool_message = selected_tool.invoke(tool_call)\n",
    "    messages.append(tool_message)\n",
    "    \n",
    "ai_message = llm_with_tools.invoke(messages)\n",
    "print(ai_message.content)  \n",
    "\n",
    "ai_message2 = llm.invoke(messages) \n",
    "print(ai_message2.content)   "
   ]
  }
 ],
 "metadata": {
  "kernelspec": {
   "display_name": "LangChain",
   "language": "python",
   "name": "python3"
  },
  "language_info": {
   "codemirror_mode": {
    "name": "ipython",
    "version": 3
   },
   "file_extension": ".py",
   "mimetype": "text/x-python",
   "name": "python",
   "nbconvert_exporter": "python",
   "pygments_lexer": "ipython3",
   "version": "3.13.2"
  }
 },
 "nbformat": 4,
 "nbformat_minor": 2
}
